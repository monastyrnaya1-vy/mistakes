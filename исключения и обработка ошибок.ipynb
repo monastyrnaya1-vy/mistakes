{
 "cells": [
  {
   "cell_type": "markdown",
   "metadata": {},
   "source": [
    "Задание 1\n",
    "Печатные газеты использовали свой формат дат для каждого выпуска. Для каждой газеты из списка напишите формат указанной даты для перевода в объект datetime:\n",
    "The Moscow Times - Wednesday, October 2, 2002\n",
    "The Guardian - Friday, 11.10.13\n",
    "Daily News - Thursday, 18 August 1977"
   ]
  },
  {
   "cell_type": "code",
   "execution_count": 2,
   "metadata": {},
   "outputs": [
    {
     "data": {
      "text/plain": [
       "(datetime.datetime(2002, 10, 2, 0, 0),\n",
       " datetime.datetime(2013, 10, 11, 0, 0),\n",
       " datetime.datetime(1977, 8, 18, 0, 0))"
      ]
     },
     "execution_count": 2,
     "metadata": {},
     "output_type": "execute_result"
    }
   ],
   "source": [
    "from datetime import datetime\n",
    "The_Moscow = datetime.strptime('Wednesday, October 2, 2002', '%A, %B %d, %Y')\n",
    "The_Guardian = datetime.strptime('Friday, 11.10.13', '%A, %d.%m.%y')\n",
    "Daily_News = datetime.strptime('Thursday, 18 August 1977', '%A, %d %B %Y')\n",
    "\n",
    "def dates():\n",
    "    return The_Moscow, The_Guardian, Daily_News\n",
    "dates()"
   ]
  },
  {
   "cell_type": "markdown",
   "metadata": {},
   "source": [
    "Задание 2\n",
    "Дан поток дат в формате YYYY-MM-DD, в которых встречаются некорректные значения:\n",
    "stream = ['2018-04-02', '2018-02-29', '2018-19-02']"
   ]
  },
  {
   "cell_type": "code",
   "execution_count": 39,
   "metadata": {},
   "outputs": [
    {
     "name": "stdout",
     "output_type": "stream",
     "text": [
      "True\n",
      "False\n",
      "False\n",
      "False\n"
     ]
    }
   ],
   "source": [
    "import traceback\n",
    "\n",
    "stream = ['2018-04-02', '2018-02-29', '2018-19-02', '2020-20-1']\n",
    "\n",
    "def research(stream):\n",
    "    for i in stream:\n",
    "        try:\n",
    "            if type(i) == str:\n",
    "                datetime.strptime(i, '%Y-%m-%d')\n",
    "                print(True)\n",
    "        except ValueError:\n",
    "            print(False)\n",
    "           \n",
    "                       \n",
    "                \n",
    "research(stream)\n",
    "        \n",
    "    \n"
   ]
  },
  {
   "cell_type": "markdown",
   "metadata": {},
   "source": [
    "Напишите функцию date_range, которая возвращает список дат за период от start_date до end_date. Даты должны вводиться в формате YYYY-MM-DD. В случае неверного формата или при start_date > end_date должен возвращаться пустой список."
   ]
  },
  {
   "cell_type": "code",
   "execution_count": 20,
   "metadata": {},
   "outputs": [
    {
     "name": "stdout",
     "output_type": "stream",
     "text": [
      "Введите дату начала отсчета YYYY-MM-DD 2020-08-10\n",
      "Введите дату окончания YYYY-MM-DD 2020-07-10\n",
      "[]\n"
     ]
    },
    {
     "data": {
      "text/plain": [
       "[]"
      ]
     },
     "execution_count": 20,
     "metadata": {},
     "output_type": "execute_result"
    }
   ],
   "source": [
    "from datetime import timedelta\n",
    "\n",
    "start_date = input('Введите дату начала отсчета YYYY-MM-DD ')\n",
    "end_date = input('Введите дату окончания YYYY-MM-DD ')\n",
    "l = []\n",
    "\n",
    "def date_range ():\n",
    "    start = datetime.strptime(start_date, '%Y-%m-%d')\n",
    "    end = datetime.strptime(end_date, '%Y-%m-%d')\n",
    "    while start < end:\n",
    "        start += timedelta(days = 1)\n",
    "        l.append(start.strftime('%Y-%m-%d'))\n",
    "    print(l)\n",
    "    if end < start:\n",
    "        a = []\n",
    "        return a\n",
    "    \n",
    "\n",
    "         \n",
    "date_range ()"
   ]
  }
 ],
 "metadata": {
  "kernelspec": {
   "display_name": "Python 3",
   "language": "python",
   "name": "python3"
  },
  "language_info": {
   "codemirror_mode": {
    "name": "ipython",
    "version": 3
   },
   "file_extension": ".py",
   "mimetype": "text/x-python",
   "name": "python",
   "nbconvert_exporter": "python",
   "pygments_lexer": "ipython3",
   "version": "3.7.4"
  }
 },
 "nbformat": 4,
 "nbformat_minor": 2
}
